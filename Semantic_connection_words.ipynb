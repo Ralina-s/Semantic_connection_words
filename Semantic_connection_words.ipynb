{
 "cells": [
  {
   "cell_type": "code",
   "execution_count": 21,
   "metadata": {
    "collapsed": true
   },
   "outputs": [],
   "source": [
    "import pandas as pd\n",
    "import numpy as np\n",
    "\n",
    "import pymorphy2 \n",
    "import gensim\n",
    "\n",
    "from sklearn.metrics import mean_squared_error\n",
    "\n",
    "from matplotlib import pyplot as plt\n",
    "%matplotlib inline\n",
    "\n",
    "import sys\n",
    "import os"
   ]
  },
  {
   "cell_type": "markdown",
   "metadata": {},
   "source": [
    "### Загрузка данных для тестирования моделей"
   ]
  },
  {
   "cell_type": "code",
   "execution_count": 209,
   "metadata": {
    "collapsed": true
   },
   "outputs": [],
   "source": [
    "data = pd.read_csv('./data/hj.csv')"
   ]
  },
  {
   "cell_type": "code",
   "execution_count": 210,
   "metadata": {
    "collapsed": false
   },
   "outputs": [
    {
     "data": {
      "text/html": [
       "<div>\n",
       "<table border=\"1\" class=\"dataframe\">\n",
       "  <thead>\n",
       "    <tr style=\"text-align: right;\">\n",
       "      <th></th>\n",
       "      <th>word1</th>\n",
       "      <th>word2</th>\n",
       "      <th>sim</th>\n",
       "    </tr>\n",
       "  </thead>\n",
       "  <tbody>\n",
       "    <tr>\n",
       "      <th>0</th>\n",
       "      <td>автомобиль</td>\n",
       "      <td>машина</td>\n",
       "      <td>0.958333</td>\n",
       "    </tr>\n",
       "    <tr>\n",
       "      <th>1</th>\n",
       "      <td>маг</td>\n",
       "      <td>волшебник</td>\n",
       "      <td>0.958333</td>\n",
       "    </tr>\n",
       "    <tr>\n",
       "      <th>2</th>\n",
       "      <td>доллар</td>\n",
       "      <td>бакс</td>\n",
       "      <td>0.952381</td>\n",
       "    </tr>\n",
       "    <tr>\n",
       "      <th>3</th>\n",
       "      <td>мальчик</td>\n",
       "      <td>парень</td>\n",
       "      <td>0.952381</td>\n",
       "    </tr>\n",
       "    <tr>\n",
       "      <th>4</th>\n",
       "      <td>машина</td>\n",
       "      <td>автомобиль</td>\n",
       "      <td>0.952381</td>\n",
       "    </tr>\n",
       "  </tbody>\n",
       "</table>\n",
       "</div>"
      ],
      "text/plain": [
       "        word1       word2       sim\n",
       "0  автомобиль      машина  0.958333\n",
       "1         маг   волшебник  0.958333\n",
       "2      доллар        бакс  0.952381\n",
       "3     мальчик      парень  0.952381\n",
       "4      машина  автомобиль  0.952381"
      ]
     },
     "execution_count": 210,
     "metadata": {},
     "output_type": "execute_result"
    }
   ],
   "source": [
    "data.head()"
   ]
  },
  {
   "cell_type": "code",
   "execution_count": 211,
   "metadata": {
    "collapsed": true
   },
   "outputs": [],
   "source": [
    "y = data['sim'].values\n",
    "data = data.drop(['sim'], axis=1)"
   ]
  },
  {
   "cell_type": "markdown",
   "metadata": {},
   "source": [
    "### Определение части речи при помощи Pymorphy2"
   ]
  },
  {
   "cell_type": "code",
   "execution_count": 4,
   "metadata": {
    "collapsed": false
   },
   "outputs": [],
   "source": [
    "class NormalAnalyzer:\n",
    "    __stemmer = pymorphy2.MorphAnalyzer()\n",
    "    __cache = {}\n",
    "    \n",
    "    __grammars = {'NOUN': '_NOUN',\n",
    "                'VERB': '_VERB', 'INFN': '_VERB', 'GRND': '_VERB', 'PRTF': '_VERB', 'PRTS': '_VERB',\n",
    "                'ADJF': '_ADJ', 'ADJS': '_ADJ',\n",
    "                'ADVB': '_ADV'}\n",
    "    \n",
    "    __grammars_keys = __grammars.keys()\n",
    "    \n",
    "    def norm(self, token):\n",
    "        token = token.strip().decode('utf-8')\n",
    "        \n",
    "        norm = ''\n",
    "        if token not in self.__cache:\n",
    "            res = self.__stemmer.parse(token)[0]\n",
    "            if res.tag.POS in self.__grammars_keys:\n",
    "                norm = res.normal_form.replace(u'ё', u'е').replace('c', u'с')\n",
    "                \n",
    "                norm = norm + self.__grammars[res.tag.POS]\n",
    "#                 if self.__grammars[res.tag.POS] != '_NOUN':\n",
    "#                     print norm\n",
    "            else: \n",
    "#                 print token\n",
    "                norm = res.normal_form.replace(u'ё', u'е')\n",
    "                norm = norm + '_' + 'UNKN'\n",
    "            self.__cache[token] = norm\n",
    "        else :\n",
    "            norm = self.__cache[token]\n",
    "        return norm\n",
    "    \n",
    "normal_analizer = NormalAnalyzer()"
   ]
  },
  {
   "cell_type": "code",
   "execution_count": 5,
   "metadata": {
    "collapsed": true
   },
   "outputs": [],
   "source": [
    "def clean_word(word):\n",
    "    return word.split('_')[0]"
   ]
  },
  {
   "cell_type": "markdown",
   "metadata": {},
   "source": [
    "### Подсчет расхождений полученных предсказаний и значений данного датасета"
   ]
  },
  {
   "cell_type": "markdown",
   "metadata": {},
   "source": [
    "Используемая метрика: MSE - Mean squared error\n",
    "$$MSE=\\frac{1}{n}\\sum_{i=1}^{n}({predict}_{i}-y_i)^{2}$$"
   ]
  },
  {
   "cell_type": "code",
   "execution_count": 7,
   "metadata": {
    "collapsed": true
   },
   "outputs": [],
   "source": [
    "# __ Предварительна нормализация полученных списков результатов __\n",
    "def accuracy_norm(predict, y):\n",
    "    predict = (predict - min(predict)) / (max(predict) - min(predict))\n",
    "    y = y / max(y)\n",
    "    return mean_squared_error(predict, y)"
   ]
  },
  {
   "cell_type": "code",
   "execution_count": 8,
   "metadata": {
    "collapsed": true
   },
   "outputs": [],
   "source": [
    "def accuracy(predict, y):\n",
    "    return mean_squared_error(predict, y)"
   ]
  },
  {
   "cell_type": "markdown",
   "metadata": {},
   "source": [
    "### Некоторые функции печати"
   ]
  },
  {
   "cell_type": "code",
   "execution_count": 6,
   "metadata": {
    "collapsed": false
   },
   "outputs": [],
   "source": [
    "# __ Печать списка ненайденных пар __\n",
    "def print_undefined(undefinded):\n",
    "    if len(undefinded) != 0:\n",
    "        print \"Список ненайденных пар:\\n\"\n",
    "        for words in undefinded:\n",
    "            print clean_word(words[0]) + ' - ' + clean_word(words[1])\n",
    "    print '\\nВсего не найдено: %d' %len(undefinded)"
   ]
  },
  {
   "cell_type": "code",
   "execution_count": 195,
   "metadata": {
    "collapsed": true
   },
   "outputs": [],
   "source": [
    "# __ Печать ошибки по используемой метрике MSE __\n",
    "def print_accuracy(predict, y):\n",
    "    print \"Нормализованные предсказания: \"\n",
    "    print accuracy_norm(predict, y) \n",
    "    print \n",
    "    print \"Абсолютные предсказания: \"\n",
    "    print accuracy(predict, y) "
   ]
  },
  {
   "cell_type": "markdown",
   "metadata": {},
   "source": [
    "### Функции для тестирования"
   ]
  },
  {
   "cell_type": "code",
   "execution_count": 197,
   "metadata": {
    "collapsed": true
   },
   "outputs": [],
   "source": [
    "# __ Предсказания данных (data) моделью (model) __\n",
    "# ____ Output: predict - список предсказаний\n",
    "#              undefinded - список объектов, которые невозможно предсказать \n",
    "\n",
    "def predict(model, data):\n",
    "    predict = []\n",
    "    undefinded = []\n",
    "    for item in data.values:\n",
    "        word1 = normal_analizer.norm(item[0])\n",
    "        word2 = normal_analizer.norm(item[1])\n",
    "        try:\n",
    "            predict.append(model.similarity(word1, word2))\n",
    "        except:\n",
    "            undefinded.append([word1, word2])\n",
    "            predict.append(0)\n",
    "    return predict, undefinded"
   ]
  },
  {
   "cell_type": "code",
   "execution_count": 299,
   "metadata": {
    "collapsed": true
   },
   "outputs": [],
   "source": [
    "# __ Построение графиков: гистограмма по MSE, \n",
    "#                         гистограмма по абсолютной ошибке \n",
    "# __\n",
    "\n",
    "def plot_graphs(predict, y):\n",
    "    param_weight = 0.4\n",
    "    param_bins_MSE = np.arange(0, 0.4, 0.025)\n",
    "    param_bins_Absolute= np.arange(-0.8, 0.5, 0.025)\n",
    "    param_alpha = 0.65\n",
    "    \n",
    "    errors = np.array(predict - y)\n",
    "\n",
    "    f, (ax1, ax2) = plt.subplots(1,2,figsize=(20,10))\n",
    "    ax1.hist(errors**2, bins=param_bins_MSE + 0.02 / 2, alpha=param_alpha, edgecolor='black', color='g', rwidth=param_weight)\n",
    "    ax1.axvline((errors**2).mean(), color='y', linestyle='dashed', linewidth=2)\n",
    "    ax1.set_xlabel('MSE', fontsize=20)\n",
    "    ax1.set_ylabel('Number of objects', fontsize=20)\n",
    "    # ax1.set_title('')\n",
    "    \n",
    "    ax2.hist(errors, bins=param_bins_Absolute, alpha=param_alpha, edgecolor='black', color='g')\n",
    "    ax2.axvline(errors.mean(), color='y', linestyle='dashed', linewidth=2)\n",
    "    ax2.set_xlabel('Absolute error', fontsize=20)\n",
    "\n",
    "    predict = (predict - min(predict)) / (max(predict) - min(predict))\n",
    "    y = y / max(y)\n",
    "    errors = np.array(predict - y)\n",
    "    \n",
    "    ax1.hist(errors**2, bins=param_bins_MSE, alpha=param_alpha, edgecolor='black', rwidth=param_weight)\n",
    "    ax1.axvline((errors**2).mean(), color='y', linestyle='dashed', linewidth=2)\n",
    "    ax1.set_xlabel('MSE', fontsize=20)\n",
    "    ax1.set_ylabel('Number of objects', fontsize=20)\n",
    "    # ax1.set_title('')\n",
    "    \n",
    "    ax2.hist(errors, bins=param_bins_Absolute, alpha=param_alpha, edgecolor='black')\n",
    "    ax2.axvline(errors.mean(), color='y', linestyle='dashed', linewidth=2)\n",
    "    ax2.set_xlabel('Absolute error', fontsize=20)\n",
    "\n",
    "\n",
    "    \n",
    "    # errors = reduce(lambda er, elem: er + [elem + er[-1]], errors[1:], [errors[0]])\n",
    "    # ax2.plot(np.arange(len(errors)), errors)\n",
    "    \n",
    "\n",
    "    plt.show()"
   ]
  },
  {
   "cell_type": "markdown",
   "metadata": {},
   "source": [
    "### Тестирование моделей Word2Vec"
   ]
  },
  {
   "cell_type": "markdown",
   "metadata": {},
   "source": [
    "#### Модель №1"
   ]
  },
  {
   "cell_type": "markdown",
   "metadata": {},
   "source": [
    "Используется word2vec, обученный на **Национальном Корпусе Русского Языка** от \"января 2017\". \n",
    "\n",
    "| Параметр | Значение |       \n",
    "| :- |:- |\n",
    "| Объем словаря | 250 миллионов слов |\n",
    "| Частотный порог | 10 |\n",
    "| Алгоритм | Skip-gram |\n",
    "| Размерность вектора | 300 |\n",
    "| Размер окна | 10 |"
   ]
  },
  {
   "cell_type": "code",
   "execution_count": 198,
   "metadata": {
    "collapsed": false
   },
   "outputs": [],
   "source": [
    "model = gensim.models.KeyedVectors.load_word2vec_format('./ruscorpora_1_300_10.bin', binary=True)"
   ]
  },
  {
   "cell_type": "code",
   "execution_count": 199,
   "metadata": {
    "collapsed": false,
    "scrolled": false
   },
   "outputs": [
    {
     "name": "stdout",
     "output_type": "stream",
     "text": [
      "Список ненайденных пар:\n",
      "\n",
      "водка - джина\n",
      "блядь - секс\n",
      "сто - процент\n",
      "начать - матч\n",
      "приют - дурд\n",
      "погост - дурд\n",
      "семь - серия\n",
      "смерть - заключенный\n",
      "подписать - перерыв\n",
      "пять - месяц\n",
      "начать - год\n",
      "фонд - cd\n",
      "\n",
      "Всего не найдено: 12\n"
     ]
    }
   ],
   "source": [
    "#  __ Предсказания первой модели близости пар нашего датасета __\n",
    "predicts, undefinded = predict(model, data)\n",
    "\n",
    "# __ Вывод ненайденных пар __\n",
    "print_undefined(undefinded)"
   ]
  },
  {
   "cell_type": "code",
   "execution_count": 207,
   "metadata": {
    "collapsed": false
   },
   "outputs": [
    {
     "name": "stdout",
     "output_type": "stream",
     "text": [
      "Нормализованные предсказания: \n",
      "0.0409589842415\n",
      "\n",
      "Абсолютные предсказания: \n",
      "0.0376676705116\n"
     ]
    }
   ],
   "source": [
    "# __ Оцениваем близость предсказаний по размеченным данным __\n",
    "print_accuracy(predicts, y)"
   ]
  },
  {
   "cell_type": "code",
   "execution_count": 201,
   "metadata": {
    "collapsed": false
   },
   "outputs": [
    {
     "data": {
      "image/png": "[encoded data removed]",
      "text/plain": [
       "<matplotlib.figure.Figure at 0x1385e8310>"
      ]
     },
     "metadata": {},
     "output_type": "display_data"
    }
   ],
   "source": [
    "plot_graphs(predicts, y)"
   ]
  },
  {
   "cell_type": "markdown",
   "metadata": {},
   "source": [
    "#### Модель №2"
   ]
  },
  {
   "cell_type": "markdown",
   "metadata": {},
   "source": [
    "Используется word2vec, обученный на **Национальном Корпусе Русского Языка и Википедии** от \"января 2017\". \n",
    "\n",
    "| Параметр | Значение |       \n",
    "| :- |:- |\n",
    "| Объем словаря | 600 миллионов слов |\n",
    "| Частотный порог | 15 |\n",
    "| Алгоритм | CBOW |\n",
    "| Размерность вектора | 300 |\n",
    "| Размер окна | 20 |"
   ]
  },
  {
   "cell_type": "code",
   "execution_count": 10,
   "metadata": {
    "collapsed": true
   },
   "outputs": [],
   "source": [
    "model = gensim.models.KeyedVectors.load_word2vec_format('./ruwikiruscorpora_0_300_20.bin', binary=True)"
   ]
  },
  {
   "cell_type": "code",
   "execution_count": 205,
   "metadata": {
    "collapsed": false,
    "scrolled": false
   },
   "outputs": [],
   "source": [
    "#  __ Предсказания первой модели близости пар нашего датасета __\n",
    "predicts, undefinded = predict(model, data)\n",
    "\n",
    "# __ Вывод ненайденных пар __\n",
    "# print_undefined(undefinded)"
   ]
  },
  {
   "cell_type": "code",
   "execution_count": 208,
   "metadata": {
    "collapsed": false
   },
   "outputs": [
    {
     "name": "stdout",
     "output_type": "stream",
     "text": [
      "Нормализованные предсказания: \n",
      "0.0409589842415\n",
      "\n",
      "Абсолютные предсказания: \n",
      "0.0376676705116\n"
     ]
    }
   ],
   "source": [
    "# __ Оцениваем близость предсказаний по размеченным данным __\n",
    "print_accuracy(predicts, y)"
   ]
  },
  {
   "cell_type": "code",
   "execution_count": 201,
   "metadata": {
    "collapsed": false
   },
   "outputs": [
    {
     "data": {
      "image/png": "[encoded data removed]",
      "text/plain": [
       "<matplotlib.figure.Figure at 0x1385e8310>"
      ]
     },
     "metadata": {},
     "output_type": "display_data"
    }
   ],
   "source": [
    "plot_graphs(predicts, y)"
   ]
  },
  {
   "cell_type": "markdown",
   "metadata": {},
   "source": [
    "#### Модель №3"
   ]
  },
  {
   "cell_type": "markdown",
   "metadata": {},
   "source": [
    "Используется word2vec, обученный на **Веб-корпусе** от \"декабрь 2017\". \n",
    "\n",
    "| Объем словаря | Частотный порог | Алгоритм | Размерность вектора | Размер окна |\n",
    "| :-: |:-: |:-: |:-: |:-: |\n",
    "| 900 миллионов слов | 30 | CBOW | 300 | 20 |"
   ]
  },
  {
   "cell_type": "code",
   "execution_count": 212,
   "metadata": {
    "collapsed": true
   },
   "outputs": [],
   "source": [
    "model = gensim.models.KeyedVectors.load_word2vec_format('./web.bin', binary=True)"
   ]
  },
  {
   "cell_type": "code",
   "execution_count": 213,
   "metadata": {
    "collapsed": false,
    "scrolled": false
   },
   "outputs": [],
   "source": [
    "#  __ Предсказания первой модели близости пар нашего датасета __\n",
    "predicts, undefinded = predict(model, data)\n",
    "\n",
    "# __ Вывод ненайденных пар __\n",
    "# print_undefined(undefinded)"
   ]
  },
  {
   "cell_type": "code",
   "execution_count": 214,
   "metadata": {
    "collapsed": false
   },
   "outputs": [
    {
     "name": "stdout",
     "output_type": "stream",
     "text": [
      "Нормализованные предсказания: \n",
      "0.0394952472687\n",
      "\n",
      "Абсолютные предсказания: \n",
      "0.0554176713588\n"
     ]
    }
   ],
   "source": [
    "# __ Оцениваем близость предсказаний по размеченным данным __\n",
    "print_accuracy(predicts, y)"
   ]
  },
  {
   "cell_type": "code",
   "execution_count": 300,
   "metadata": {
    "collapsed": false
   },
   "outputs": [
    {
     "data": {
      "image/png": "[encoded data removed]",
      "text/plain": [
       "<matplotlib.figure.Figure at 0x12e05cfd0>"
      ]
     },
     "metadata": {},
     "output_type": "display_data"
    }
   ],
   "source": [
    "plot_graphs(predicts, y)"
   ]
  },
  {
   "cell_type": "markdown",
   "metadata": {},
   "source": [
    "### Тест"
   ]
  },
  {
   "cell_type": "code",
   "execution_count": 81,
   "metadata": {
    "collapsed": false
   },
   "outputs": [
    {
     "name": "stdout",
     "output_type": "stream",
     "text": [
      "/bin/sh: mystem: command not found\r\n"
     ]
    }
   ],
   "source": [
    "!mystem"
   ]
  },
  {
   "cell_type": "code",
   "execution_count": 99,
   "metadata": {
    "collapsed": false
   },
   "outputs": [
    {
     "name": "stdout",
     "output_type": "stream",
     "text": [
      "Не найдено\n"
     ]
    }
   ],
   "source": [
    "try:\n",
    "    model.most_similar(u'заключенный_NOUN')\n",
    "except:\n",
    "    print \"Не найдено\""
   ]
  },
  {
   "cell_type": "code",
   "execution_count": 159,
   "metadata": {
    "collapsed": false
   },
   "outputs": [],
   "source": [
    "a = [1,2,3]\n",
    "a.append(5)"
   ]
  },
  {
   "cell_type": "code",
   "execution_count": 239,
   "metadata": {
    "collapsed": false
   },
   "outputs": [
    {
     "name": "stdout",
     "output_type": "stream",
     "text": [
      "[ 0.05  0.25  0.45  0.65  0.85]\n"
     ]
    }
   ],
   "source": [
    "print np.arange(0,1,0.2) +0.05"
   ]
  },
  {
   "cell_type": "code",
   "execution_count": null,
   "metadata": {
    "collapsed": true
   },
   "outputs": [],
   "source": []
  }
 ],
 "metadata": {
  "kernelspec": {
   "display_name": "Python 2",
   "language": "python",
   "name": "python2"
  },
  "language_info": {
   "codemirror_mode": {
    "name": "ipython",
    "version": 2
   },
   "file_extension": ".py",
   "mimetype": "text/x-python",
   "name": "python",
   "nbconvert_exporter": "python",
   "pygments_lexer": "ipython2",
   "version": "2.7.13"
  }
 },
 "nbformat": 4,
 "nbformat_minor": 2
}
