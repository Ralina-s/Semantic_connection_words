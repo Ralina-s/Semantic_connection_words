{
 "cells": [
  {
   "cell_type": "code",
   "execution_count": 261,
   "metadata": {
    "collapsed": false
   },
   "outputs": [],
   "source": [
    "import pandas as pd\n",
    "import numpy as np\n",
    "from operator import itemgetter\n",
    "import pickle\n",
    "import json\n",
    "from collections import OrderedDict\n",
    "\n",
    "import pymorphy2 \n",
    "import gensim\n",
    "\n",
    "from sklearn.metrics import mean_squared_error\n",
    "from scipy.stats import spearmanr\n",
    "from scipy import spatial\n",
    "\n",
    "from matplotlib import pyplot as plt\n",
    "%matplotlib inline\n",
    "\n",
    "import sys\n",
    "import os\n",
    "import time"
   ]
  },
  {
   "cell_type": "markdown",
   "metadata": {},
   "source": [
    "### Загрузка данных для тестирования моделей"
   ]
  },
  {
   "cell_type": "code",
   "execution_count": 312,
   "metadata": {
    "collapsed": true
   },
   "outputs": [],
   "source": [
    "data = pd.read_csv('./data/hj.csv')"
   ]
  },
  {
   "cell_type": "code",
   "execution_count": 313,
   "metadata": {
    "collapsed": false
   },
   "outputs": [
    {
     "data": {
      "text/html": [
       "<div>\n",
       "<table border=\"1\" class=\"dataframe\">\n",
       "  <thead>\n",
       "    <tr style=\"text-align: right;\">\n",
       "      <th></th>\n",
       "      <th>word1</th>\n",
       "      <th>word2</th>\n",
       "      <th>sim</th>\n",
       "    </tr>\n",
       "  </thead>\n",
       "  <tbody>\n",
       "    <tr>\n",
       "      <th>220</th>\n",
       "      <td>начало</td>\n",
       "      <td>матч</td>\n",
       "      <td>0.242424</td>\n",
       "    </tr>\n",
       "    <tr>\n",
       "      <th>369</th>\n",
       "      <td>начало</td>\n",
       "      <td>год</td>\n",
       "      <td>0.303030</td>\n",
       "    </tr>\n",
       "  </tbody>\n",
       "</table>\n",
       "</div>"
      ],
      "text/plain": [
       "      word1 word2       sim\n",
       "220  начало  матч  0.242424\n",
       "369  начало   год  0.303030"
      ]
     },
     "execution_count": 313,
     "metadata": {},
     "output_type": "execute_result"
    }
   ],
   "source": [
    "data[data['word1']=='начало']"
   ]
  },
  {
   "cell_type": "code",
   "execution_count": 318,
   "metadata": {
    "collapsed": false
   },
   "outputs": [
    {
     "name": "stdout",
     "output_type": "stream",
     "text": [
      "\n"
     ]
    }
   ],
   "source": [
    "data = data.sort_values(['sim'], ascending=0)\n",
    "data.reindex(range(len(data)))\n",
    "print"
   ]
  },
  {
   "cell_type": "code",
   "execution_count": 319,
   "metadata": {
    "collapsed": false
   },
   "outputs": [],
   "source": [
    "y = data['sim'].values\n",
    "data = data.drop(['sim'], axis=1)"
   ]
  },
  {
   "cell_type": "markdown",
   "metadata": {},
   "source": [
    "### Определение части речи при помощи Pymorphy2"
   ]
  },
  {
   "cell_type": "code",
   "execution_count": 5,
   "metadata": {
    "collapsed": false
   },
   "outputs": [],
   "source": [
    "class NormalAnalyzer:\n",
    "    __stemmer = pymorphy2.MorphAnalyzer()\n",
    "    __cache = {}\n",
    "    \n",
    "    __grammars = {'NOUN': '_NOUN',\n",
    "                'VERB': '_VERB', 'INFN': '_VERB', 'GRND': '_VERB', 'PRTF': '_VERB', 'PRTS': '_VERB',\n",
    "                'ADJF': '_ADJ', 'ADJS': '_ADJ',\n",
    "                'ADVB': '_ADV'}\n",
    "    \n",
    "    __grammars_keys = __grammars.keys()\n",
    "    \n",
    "    def norm(self, token):\n",
    "        token = token.strip().decode('utf-8')\n",
    "        \n",
    "        norm = ''\n",
    "        if token not in self.__cache:\n",
    "            \n",
    "            if token == u'джин':\n",
    "                self.__cache[token] = u'джин_NOUN'\n",
    "                return u'джин_NOUN'\n",
    "            elif token == u'планета':\n",
    "                self.__cache[token] = u'планета_NOUN'\n",
    "                return u'планета_NOUN'\n",
    "            elif token == u'дурдом':\n",
    "                self.__cache[token] = u'дурдом_NOUN'\n",
    "                return u'дурдом_NOUN'\n",
    "            elif token == u'начало':\n",
    "                self.__cache[token] = u'начало_NOUN'\n",
    "                return u'начало_NOUN'\n",
    "            elif token == u'подписать':\n",
    "                self.__cache[token] = u'подписывать_VERB'\n",
    "                return u'подписывать_VERB'\n",
    "            elif token == u'заключенный':\n",
    "                self.__cache[token] = u'заключенный_ADJ'\n",
    "                return u'заключенный_ADJ'\n",
    "    \n",
    "            res = self.__stemmer.parse(token)\n",
    "            list_POS = [form.tag.POS for form in res]\n",
    "            res = res[0]\n",
    "            norm = res.normal_form.replace(u'ё', u'е').replace('c', u'с')\n",
    "            if 'NUMR' in list_POS:\n",
    "                norm = norm + '_' + 'NUM'\n",
    "            elif res.tag.POS in self.__grammars_keys:\n",
    "                norm = norm + self.__grammars[res.tag.POS]\n",
    "            else: \n",
    "                norm = norm + '_' + 'UNKN'\n",
    "            self.__cache[token] = norm\n",
    "        else :\n",
    "            norm = self.__cache[token]\n",
    "        return norm\n",
    "    \n",
    "normal_analizer = NormalAnalyzer()"
   ]
  },
  {
   "cell_type": "code",
   "execution_count": 6,
   "metadata": {
    "collapsed": true
   },
   "outputs": [],
   "source": [
    "def clean_word(word):\n",
    "    return word.split('_')[0]"
   ]
  },
  {
   "cell_type": "markdown",
   "metadata": {},
   "source": [
    "### Подсчет расхождений полученных предсказаний и значений данного датасета"
   ]
  },
  {
   "cell_type": "markdown",
   "metadata": {},
   "source": [
    "Используемые метрики:\n",
    "$$MSE=\\frac{1}{n}\\sum_{i=1}^{n}({predict}_{i}-y_i)^{2}$$\n",
    "\n",
    "$$SpearmanrCorrelation=1-\\frac{\\sum_{}^{} d^2}{n(n^2 - 1)}$$\n",
    "<p><center>где $d$ - сумма квадратов разностей рангов, $n$ - число парных наблюдений </center>"
   ]
  },
  {
   "cell_type": "code",
   "execution_count": 7,
   "metadata": {
    "collapsed": true
   },
   "outputs": [],
   "source": [
    "# __ Предварительная нормализация полученных списков результатов __\n",
    "def accuracy_norm(predict, y):\n",
    "    predict = (predict - min(predict)) / (max(predict) - min(predict))\n",
    "    y = y / max(y)\n",
    "    return mean_squared_error(predict, y)"
   ]
  },
  {
   "cell_type": "code",
   "execution_count": 8,
   "metadata": {
    "collapsed": true
   },
   "outputs": [],
   "source": [
    "def accuracy(predict, y):\n",
    "    return mean_squared_error(predict, y)"
   ]
  },
  {
   "cell_type": "markdown",
   "metadata": {},
   "source": [
    "### Некоторые функции печати"
   ]
  },
  {
   "cell_type": "code",
   "execution_count": 9,
   "metadata": {
    "collapsed": false
   },
   "outputs": [],
   "source": [
    "# __ Печать списка ненайденных пар __\n",
    "def print_undefined(undefinded):\n",
    "    if len(undefinded) != 0:\n",
    "        print \"Список ненайденных пар:\\n\"\n",
    "        for words in undefinded:\n",
    "            print clean_word(words[0]) + ' - ' + clean_word(words[1])\n",
    "    print '\\nВсего не найдено: %d' %len(undefinded)"
   ]
  },
  {
   "cell_type": "code",
   "execution_count": 10,
   "metadata": {
    "collapsed": true
   },
   "outputs": [],
   "source": [
    "# __ Печать ошибки по используемой метрике MSE __\n",
    "def print_accuracy(predict, y):\n",
    "    print \"Нормализованные предсказания: \"\n",
    "    print accuracy_norm(predict, y) \n",
    "    print \n",
    "    print \"Абсолютные предсказания: \"\n",
    "    print accuracy(predict, y) \n",
    "    print\n",
    "    print \"Spearman rank correlation: \"\n",
    "    print spearmanr(predict, y).correlation"
   ]
  },
  {
   "cell_type": "markdown",
   "metadata": {},
   "source": [
    "### Функции для тестирования"
   ]
  },
  {
   "cell_type": "code",
   "execution_count": 11,
   "metadata": {
    "collapsed": true
   },
   "outputs": [],
   "source": [
    "# __ По массиву значений возвращает список позиций в упорядоченном массиве __\n",
    "def position_in_ordered_list(array):\n",
    "    array_index = zip(array, range(len(array)))\n",
    "    sorted_array_index = sorted(array_index, key=itemgetter(0), reverse=True)\n",
    "    return np.array(zip(*sorted_array_index)[1])"
   ]
  },
  {
   "cell_type": "code",
   "execution_count": 433,
   "metadata": {
    "collapsed": false
   },
   "outputs": [],
   "source": [
    "def differ_positions(ar1, ar2):\n",
    "    set_y = set()\n",
    "    for y in ar1:\n",
    "        set_y.add(y)\n",
    "    set_y = sorted(set_y, reverse=True)\n",
    "    groups = OrderedDict()\n",
    "    for y in set_y:\n",
    "        groups[y] = []\n",
    "        \n",
    "    for i, value in enumerate(ar2):\n",
    "        groups[ar1[i]].append(value)\n",
    "    \n",
    "    total = []\n",
    "    for values in groups.values():\n",
    "        total.extend(values)\n",
    "        \n",
    "    return abs(position_in_ordered_list(ar1) - position_in_ordered_list(ar2))"
   ]
  },
  {
   "cell_type": "code",
   "execution_count": 12,
   "metadata": {
    "collapsed": true
   },
   "outputs": [],
   "source": [
    "# __ Предсказания данных (data) моделью (model) __\n",
    "# ____ Output: predict - список предсказаний\n",
    "#              undefinded - список объектов, которые невозможно предсказать \n",
    "\n",
    "def predict(model, data):\n",
    "    predict = []\n",
    "    undefinded = []\n",
    "    for item in data.values:\n",
    "        word1 = normal_analizer.norm(item[0])\n",
    "        word2 = normal_analizer.norm(item[1])\n",
    "        try:\n",
    "            predict.append(model.similarity(word1, word2))\n",
    "        except:\n",
    "            undefinded.append([word1, word2])\n",
    "            predict.append(0)\n",
    "    return predict, undefinded"
   ]
  },
  {
   "cell_type": "code",
   "execution_count": 13,
   "metadata": {
    "collapsed": true
   },
   "outputs": [],
   "source": [
    "def predict_myModel(model, data):\n",
    "    predict = []\n",
    "    undefinded = []\n",
    "    for item in data.values:\n",
    "        word1 = normal_analizer.norm(item[0]).split('_')[0].upper().encode('utf-8')\n",
    "        word2 = normal_analizer.norm(item[1]).split('_')[0].upper().encode('utf-8')\n",
    "        try:\n",
    "            predict.append(model.similarity(word1, word2))\n",
    "        except:\n",
    "            undefinded.append([word1, word2])\n",
    "            predict.append(0)\n",
    "    return predict, undefinded"
   ]
  },
  {
   "cell_type": "code",
   "execution_count": 429,
   "metadata": {
    "collapsed": false
   },
   "outputs": [],
   "source": [
    "# __ Построение графиков: гистограмма по MSE, \n",
    "#                         гистограмма по абсолютной ошибке \n",
    "# __\n",
    "\n",
    "def plot_graphs(predict, y):\n",
    "    param_weight = 0.4\n",
    "    param_bins_MSE = np.arange(0, 0.4, 0.025)\n",
    "    param_bins_Absolute= 40\n",
    "    param_alpha = 0.65\n",
    "    \n",
    "    errors = np.array(predict - y)\n",
    "\n",
    "    f, (ax1, ax2) = plt.subplots(1,2,figsize=(20,10))\n",
    "    ax1.hist(errors**2, bins=param_bins_MSE + 0.02 / 2, alpha=param_alpha, edgecolor='black', color='g', rwidth=param_weight, label='Absolute')\n",
    "    ax1.axvline((errors**2).mean(), color='y', linestyle='dashed', linewidth=2, label='Absolute mean')\n",
    "    ax1.set_xlabel('MSE', fontsize=20)\n",
    "    ax1.set_ylabel('Number of objects', fontsize=20)\n",
    "    # ax1.set_title('')\n",
    "    \n",
    "#     variance_position = abs(position_in_ordered_list(predict) - position_in_ordered_list(y))\n",
    "    variance_position = differ_positions(y, predict)\n",
    "    ax2.hist(variance_position, bins=param_bins_Absolute, alpha=param_alpha, edgecolor='black', color='g')\n",
    "    ax2.axvline(variance_position.mean(), color='y', linestyle='dashed', linewidth=2, label='Variance rank-order mean')\n",
    "    ax2.set_xlabel('Variance rank-order', fontsize=20)\n",
    "    \n",
    "#     ax2.hist(errors, bins=param_bins_Absolute, alpha=param_alpha, edgecolor='black', color='g', label='Absolute')\n",
    "#     ax2.axvline(errors.mean(), color='y', linestyle='dashed', linewidth=2, label='Absolute mean')\n",
    "#     ax2.set_xlabel('Absolute error', fontsize=20)\n",
    "\n",
    "    predict = (predict - min(predict)) / (max(predict) - min(predict))\n",
    "    y = y / max(y)\n",
    "    errors = np.array(predict - y)\n",
    "    \n",
    "    ax1.hist(errors**2, bins=param_bins_MSE, alpha=param_alpha, edgecolor='black', rwidth=param_weight, label='Normalized')\n",
    "    ax1.axvline((errors**2).mean(), color='r', linestyle='dashed', linewidth=2, label='Normalized mean')\n",
    "    \n",
    "#     ax2.hist(errors, bins=param_bins_Absolute, alpha=param_alpha, edgecolor='black', label='Normalized')\n",
    "#     ax2.axvline(errors.mean(), color='r', linestyle='dashed', linewidth=2, label='Normalized mean')\n",
    "\n",
    "    ax1.legend(fontsize=20)\n",
    "    ax2.legend(fontsize=20) \n",
    "\n",
    "    \n",
    "\n",
    "    plt.show()"
   ]
  },
  {
   "cell_type": "markdown",
   "metadata": {},
   "source": [
    "### Тестирование моделей Word2Vec"
   ]
  },
  {
   "cell_type": "markdown",
   "metadata": {},
   "source": [
    "#### Модель №1"
   ]
  },
  {
   "cell_type": "markdown",
   "metadata": {},
   "source": [
    "Используется word2vec, обученный на **Национальном Корпусе Русского Языка** от \"января 2017\". \n",
    "\n",
    "| Параметр | Значение |       \n",
    "| :- |:- |\n",
    "| Объем словаря | 250 миллионов слов |\n",
    "| Частотный порог | 10 |\n",
    "| Алгоритм | Skip-gram |\n",
    "| Размерность вектора | 300 |\n",
    "| Размер окна | 10 |"
   ]
  },
  {
   "cell_type": "code",
   "execution_count": 394,
   "metadata": {
    "collapsed": false
   },
   "outputs": [],
   "source": [
    "model = gensim.models.KeyedVectors.load_word2vec_format('./courps/ruscorpora.bin', binary=True)"
   ]
  },
  {
   "cell_type": "code",
   "execution_count": 395,
   "metadata": {
    "collapsed": false,
    "scrolled": false
   },
   "outputs": [
    {
     "name": "stdout",
     "output_type": "stream",
     "text": [
      "2\n"
     ]
    }
   ],
   "source": [
    "#  __ Предсказания первой модели близости пар нашего датасета __\n",
    "predicts, undefinded = predict(model, data)\n",
    "\n",
    "# __ Вывод ненайденных пар __\n",
    "# print_undefined(undefinded)\n",
    "print len(undefinded)"
   ]
  },
  {
   "cell_type": "code",
   "execution_count": 396,
   "metadata": {
    "collapsed": false
   },
   "outputs": [
    {
     "name": "stdout",
     "output_type": "stream",
     "text": [
      "Нормализованные предсказания: \n",
      "0.040152472329\n",
      "\n",
      "Абсолютные предсказания: \n",
      "0.0367998209608\n",
      "\n",
      "Spearman rank correlation: \n",
      "0.68503439607\n"
     ]
    }
   ],
   "source": [
    "# __ Оцениваем близость предсказаний по размеченным данным __\n",
    "print_accuracy(predicts, y)"
   ]
  },
  {
   "cell_type": "code",
   "execution_count": 434,
   "metadata": {
    "collapsed": false
   },
   "outputs": [
    {
     "data": {
      "image/png": "[encoded data removed]",
      "text/plain": [
       "<matplotlib.figure.Figure at 0x13a1df8d0>"
      ]
     },
     "metadata": {},
     "output_type": "display_data"
    }
   ],
   "source": [
    "plot_graphs(predicts, y)"
   ]
  },
  {
   "cell_type": "markdown",
   "metadata": {},
   "source": [
    "#### Модель №2"
   ]
  },
  {
   "cell_type": "markdown",
   "metadata": {},
   "source": [
    "Используется word2vec, обученный на **Национальном Корпусе Русского Языка и Википедии** от \"января 2017\". \n",
    "\n",
    "| Параметр | Значение |       \n",
    "| :- |:- |\n",
    "| Объем словаря | 600 миллионов слов |\n",
    "| Частотный порог | 15 |\n",
    "| Алгоритм | CBOW |\n",
    "| Размерность вектора | 300 |\n",
    "| Размер окна | 20 |"
   ]
  },
  {
   "cell_type": "code",
   "execution_count": 436,
   "metadata": {
    "collapsed": false
   },
   "outputs": [],
   "source": [
    "model = gensim.models.KeyedVectors.load_word2vec_format('./courps/ruwikiruscorpora.bin', binary=True)"
   ]
  },
  {
   "cell_type": "code",
   "execution_count": 437,
   "metadata": {
    "collapsed": false,
    "scrolled": false
   },
   "outputs": [
    {
     "name": "stdout",
     "output_type": "stream",
     "text": [
      "2\n"
     ]
    }
   ],
   "source": [
    "#  __ Предсказания первой модели близости пар нашего датасета __\n",
    "predicts, undefinded = predict(model, data)\n",
    "\n",
    "# __ Вывод ненайденных пар __\n",
    "# print_undefined(undefinded)\n",
    "print len(undefinded)"
   ]
  },
  {
   "cell_type": "code",
   "execution_count": 438,
   "metadata": {
    "collapsed": false
   },
   "outputs": [
    {
     "name": "stdout",
     "output_type": "stream",
     "text": [
      "Нормализованные предсказания: \n",
      "0.0411610078923\n",
      "\n",
      "Абсолютные предсказания: \n",
      "0.0509819300554\n",
      "\n",
      "Spearman rank correlation: \n",
      "0.641340046202\n"
     ]
    }
   ],
   "source": [
    "# __ Оцениваем близость предсказаний по размеченным данным __\n",
    "print_accuracy(predicts, y)"
   ]
  },
  {
   "cell_type": "code",
   "execution_count": 439,
   "metadata": {
    "collapsed": false
   },
   "outputs": [
    {
     "data": {
      "image/png": "[encoded data removed]",
      "text/plain": [
       "<matplotlib.figure.Figure at 0x1333a0750>"
      ]
     },
     "metadata": {},
     "output_type": "display_data"
    }
   ],
   "source": [
    "plot_graphs(predicts, y)"
   ]
  },
  {
   "cell_type": "markdown",
   "metadata": {},
   "source": [
    "#### Модель №3"
   ]
  },
  {
   "cell_type": "markdown",
   "metadata": {},
   "source": [
    "Используется word2vec, обученный на **Веб-корпусе** от \"декабрь 2017\". \n",
    "\n",
    "| Параметр | Значение |       \n",
    "| :- |:- |\n",
    "| Объем словаря | 900 миллионов слов |\n",
    "| Частотный порог | 30 |\n",
    "| Алгоритм | CBOW |\n",
    "| Размерность вектора | 300 |\n",
    "| Размер окна | 20 |"
   ]
  },
  {
   "cell_type": "code",
   "execution_count": 441,
   "metadata": {
    "collapsed": false
   },
   "outputs": [],
   "source": [
    "model = gensim.models.KeyedVectors.load_word2vec_format('./courps/web.bin', binary=True)"
   ]
  },
  {
   "cell_type": "code",
   "execution_count": 442,
   "metadata": {
    "collapsed": false,
    "scrolled": false
   },
   "outputs": [
    {
     "name": "stdout",
     "output_type": "stream",
     "text": [
      "2\n"
     ]
    }
   ],
   "source": [
    "#  __ Предсказания первой модели близости пар нашего датасета __\n",
    "predicts, undefinded = predict(model, data)\n",
    "\n",
    "# __ Вывод ненайденных пар __\n",
    "# print_undefined(undefinded)\n",
    "print len(undefinded)"
   ]
  },
  {
   "cell_type": "code",
   "execution_count": 443,
   "metadata": {
    "collapsed": false
   },
   "outputs": [
    {
     "name": "stdout",
     "output_type": "stream",
     "text": [
      "Нормализованные предсказания: \n",
      "0.0400544907362\n",
      "\n",
      "Абсолютные предсказания: \n",
      "0.0539420002041\n",
      "\n",
      "Spearman rank correlation: \n",
      "0.641116495043\n"
     ]
    }
   ],
   "source": [
    "# __ Оцениваем близость предсказаний по размеченным данным __\n",
    "print_accuracy(predicts, y)"
   ]
  },
  {
   "cell_type": "code",
   "execution_count": 444,
   "metadata": {
    "collapsed": false
   },
   "outputs": [
    {
     "data": {
      "image/png": "[encoded data removed]",
      "text/plain": [
       "<matplotlib.figure.Figure at 0x112ae48d0>"
      ]
     },
     "metadata": {},
     "output_type": "display_data"
    }
   ],
   "source": [
    "plot_graphs(predicts, y)"
   ]
  },
  {
   "cell_type": "markdown",
   "metadata": {},
   "source": [
    "#### Модель №4"
   ]
  },
  {
   "cell_type": "markdown",
   "metadata": {},
   "source": [
    "Используется word2vec, обученный на **Новостном корпусе** от \"с сентября 2013 до ноября 2016\". \n",
    "\n",
    "| Параметр | Значение |       \n",
    "| :- |:- |\n",
    "| Объем словаря | 5 миллиардов слов |\n",
    "| Частотный порог | 200 |\n",
    "| Алгоритм | CBOW |\n",
    "| Размерность вектора | 300 |\n",
    "| Размер окна | 2 |"
   ]
  },
  {
   "cell_type": "code",
   "execution_count": 445,
   "metadata": {
    "collapsed": true
   },
   "outputs": [],
   "source": [
    "model = gensim.models.KeyedVectors.load_word2vec_format('./courps/news.bin', binary=True)"
   ]
  },
  {
   "cell_type": "code",
   "execution_count": 446,
   "metadata": {
    "collapsed": false,
    "scrolled": false
   },
   "outputs": [
    {
     "name": "stdout",
     "output_type": "stream",
     "text": [
      "2\n"
     ]
    }
   ],
   "source": [
    "#  __ Предсказания первой модели близости пар нашего датасета __\n",
    "predicts, undefinded = predict(model, data)\n",
    "\n",
    "# __ Вывод ненайденных пар __\n",
    "# print_undefined(undefinded)\n",
    "print len(undefinded)"
   ]
  },
  {
   "cell_type": "code",
   "execution_count": 447,
   "metadata": {
    "collapsed": false
   },
   "outputs": [
    {
     "name": "stdout",
     "output_type": "stream",
     "text": [
      "Нормализованные предсказания: \n",
      "0.0489090111169\n",
      "\n",
      "Абсолютные предсказания: \n",
      "0.0727769463928\n",
      "\n",
      "Spearman rank correlation: \n",
      "0.589919280802\n"
     ]
    }
   ],
   "source": [
    "# __ Оцениваем близость предсказаний по размеченным данным __\n",
    "print_accuracy(predicts, y)"
   ]
  },
  {
   "cell_type": "code",
   "execution_count": 448,
   "metadata": {
    "collapsed": false,
    "scrolled": false
   },
   "outputs": [
    {
     "data": {
      "image/png": "[encoded data removed]",
      "text/plain": [
       "<matplotlib.figure.Figure at 0x14414c650>"
      ]
     },
     "metadata": {},
     "output_type": "display_data"
    }
   ],
   "source": [
    "plot_graphs(predicts, y)"
   ]
  },
  {
   "cell_type": "markdown",
   "metadata": {},
   "source": [
    "### Выводы по использованию различных готовых корпусов word2ec"
   ]
  },
  {
   "cell_type": "markdown",
   "metadata": {},
   "source": [
    "|Корпус|Объем словаря|Частотный порог|Алгоритм|Размерность вектора|Размер окна|MSE + нормализация|MSE|Корреляция Спирмена|Кол-во ненайденных пар|\n",
    "| :-: | :-: |:-: |:-: |:-: |:-: | :-: | :-: | :-: | :-: |\n",
    "| НКРЯ | 250 миллионов слов | 10 | Skip-gramm | 300 | 10 | 0.04015 | 0.03680 | 0.68503 | 2 |\n",
    "| Wiki | 600 миллионов слов | 15 | CBOW | 300 | 20 | 0.04116 | 0.05098 | 0.64134 | 2 |\n",
    "| Web | 900 миллионов слов | 30 | CBOW | 300 | 20 | 0.04005 | 0.05394 | 0.64112 | 2 |\n",
    "| News | 5 миллиардов слов | 200 | CBOW | 300 | 2 | 0.04891 | 0.07278 | 0.58992 | 2 |"
   ]
  },
  {
   "cell_type": "markdown",
   "metadata": {},
   "source": [
    "1. Основным критерием качесва мы выберем коэффициент ранговой корреляции Спирмена, так как главной целью нашего предсказания является ранжирование пар по семантической близости. Наилучший результат показал национальный корпус русского языка, наихудший - новостной.\n",
    "<p>\n",
    "<p>\n",
    "2. Если смотреть на отклонения от значений, то можно сказать, что нормализация предсказаний дает сильное улучшение на большинстве корпусах. Это логично, так как одна максимально синонимичная пара, не входящая в тестовый датасет, уменьшает значения схожести другим парам. \n",
    "<p>\n",
    "<p>\n",
    "3. На данный момент мы не можем сказать, насколько сильно влияет выбор алгоритма (CBOW и Skip-gramm), размер окна и размер вектора, так как нет сравнений конкретно по каждому параметру, ипользуя один корпус.\n",
    "<p>\n",
    "<p>\n",
    "4. И на последок, word2vec неплохо справляется со своей задачей. Постараемся улучшить качество, используя дополненительно  словари Тезаурус"
   ]
  },
  {
   "cell_type": "markdown",
   "metadata": {},
   "source": [
    "### Создание своей модели Word2Vec"
   ]
  },
  {
   "cell_type": "code",
   "execution_count": 15,
   "metadata": {
    "collapsed": true
   },
   "outputs": [],
   "source": [
    "# Считывание из файла N слов и формирование предложение по 5000 символов в каждом\n",
    "def getNwords(ffile, last_word='', N=1000000):\n",
    "    words = []\n",
    "    n_words = 0\n",
    "    flag_EOF = False\n",
    "    while (n_words < N):\n",
    "        s = ffile.read(5000) # считываю по 5000 символов и разбиваю их на слова\n",
    "        if len(s) < 5000:\n",
    "            # если осталось < 5000 символов == конец файла\n",
    "            s = last_word + s\n",
    "            currently_words = s.split(' ')\n",
    "            words.append(currently_words)\n",
    "            flag_EOF = True\n",
    "            break\n",
    "            \n",
    "        s = last_word + s\n",
    "        currently_words = s.split(' ')\n",
    "        n_words += len(currently_words) - 1\n",
    "        words.append(currently_words[:-1])\n",
    "        last_word = currently_words[-1]\n",
    "        \n",
    "    return words, last_word, flag_EOF"
   ]
  },
  {
   "cell_type": "code",
   "execution_count": 742,
   "metadata": {
    "collapsed": false,
    "scrolled": true
   },
   "outputs": [
    {
     "name": "stdout",
     "output_type": "stream",
     "text": [
      "Step: 0\n"
     ]
    },
    {
     "name": "stderr",
     "output_type": "stream",
     "text": [
      "\n",
      "KeyboardInterrupt\n",
      "\n"
     ]
    }
   ],
   "source": [
    "# разбиваем на пакеты по 10.000.000 слов и обучаем модель на очередной партии\n",
    "file_text = open('./data/global_text.txt')\n",
    "last_word = ''\n",
    "model = gensim.models.word2vec.Word2Vec(iter=5, min_count=1, size=300, window=5)\n",
    "\n",
    "i = 0\n",
    "while(True):\n",
    "    words, last_word, flag_EOF = getNwords(file_text, last_word, 10000000)\n",
    "    \n",
    "#     with open(os.path.join('./words/', str(i)), 'w') as output:\n",
    "#         words_pickle = pickle.dumps(words)\n",
    "#         output.write(words_pickle)\n",
    "\n",
    "    if i == 0:\n",
    "        model.build_vocab(words)\n",
    "    else:\n",
    "        model.build_vocab(words, update=True)\n",
    "        model.train(words)\n",
    "    \n",
    "    print \"Step: %d\" %i\n",
    "    i += 1\n",
    "    \n",
    "    if flag_EOF:\n",
    "        break"
   ]
  },
  {
   "cell_type": "code",
   "execution_count": 39,
   "metadata": {
    "collapsed": false
   },
   "outputs": [
    {
     "name": "stdout",
     "output_type": "stream",
     "text": [
      "МЕДВЕДЬ\n",
      "ОЛЕНЬ\n",
      "ЛИС\n",
      "ВОЛК\n",
      "РЫСЬ\n",
      "ЛОСЬ\n",
      "ИРБИС\n",
      "ХИЩНИК\n",
      "ЗВЕРЬ\n",
      "КОСУЛЯ\n"
     ]
    }
   ],
   "source": [
    "# проверка работы\n",
    "for word in model.most_similar('ТИГР'):\n",
    "    print word[0]"
   ]
  },
  {
   "cell_type": "code",
   "execution_count": 41,
   "metadata": {
    "collapsed": false,
    "scrolled": true
   },
   "outputs": [
    {
     "name": "stdout",
     "output_type": "stream",
     "text": [
      "5\n"
     ]
    }
   ],
   "source": [
    "#  __ Предсказания первой модели близости пар нашего датасета __\n",
    "predicts, undefinded = predict_myModel(model, data)\n",
    "\n",
    "# __ Вывод ненайденных пар __\n",
    "# print_undefined(undefinded)\n",
    "print len(undefinded)"
   ]
  },
  {
   "cell_type": "code",
   "execution_count": 40,
   "metadata": {
    "collapsed": false,
    "scrolled": true
   },
   "outputs": [
    {
     "name": "stdout",
     "output_type": "stream",
     "text": [
      "Нормализованные предсказания: \n",
      "0.0493730887131\n",
      "\n",
      "Абсолютные предсказания: \n",
      "0.0567040556829\n",
      "\n",
      "Spearman rank correlation: \n",
      "0.556238059858\n"
     ]
    }
   ],
   "source": [
    "# __ Оцениваем близость предсказаний по размеченным данным __\n",
    "print_accuracy(predicts, y)"
   ]
  },
  {
   "cell_type": "markdown",
   "metadata": {},
   "source": [
    "### Функции сохранения и загрузки результатов моделей"
   ]
  },
  {
   "cell_type": "code",
   "execution_count": 401,
   "metadata": {
    "collapsed": true
   },
   "outputs": [],
   "source": [
    "def save_result_model(algorithm, window, size, min_count, alpha, result, n_undefined, ttime, output_path):\n",
    "    with open(output_path, 'a') as ofile:\n",
    "        params = [algorithm, window, size, min_count, alpha]\n",
    "        results = [result, n_undefined, ttime]\n",
    "        pick = json.dumps({'params': params, 'result': results})\n",
    "        ofile.write(pick)\n",
    "        ofile.write('\\n')\n",
    "    print 'Saved'"
   ]
  },
  {
   "cell_type": "code",
   "execution_count": 402,
   "metadata": {
    "collapsed": true
   },
   "outputs": [],
   "source": [
    "def load_result_model(file_path):\n",
    "    results = []\n",
    "    with open(file_path) as ifile:\n",
    "        for line in ifile:\n",
    "            results.append(json.loads(line))\n",
    "    return results"
   ]
  },
  {
   "cell_type": "markdown",
   "metadata": {},
   "source": [
    "### Сравнение собственных моделей Word2Vec"
   ]
  },
  {
   "cell_type": "code",
   "execution_count": 18,
   "metadata": {
    "collapsed": true
   },
   "outputs": [],
   "source": [
    "def fil_model(algorithm, window, size, min_count, alpha):\n",
    "    last_time = time.time()\n",
    "    with open('./data/global_text.txt') as file_text:\n",
    "        last_word = ''\n",
    "        model = gensim.models.word2vec.Word2Vec(iter=5, sg=algorithm, window=window, size=size, min_count=min_count, alpha=alpha)\n",
    "\n",
    "        i = 0\n",
    "        while(True):\n",
    "            words, last_word, flag_EOF = getNwords(file_text, last_word, 10000000)\n",
    "\n",
    "            if i == 0:\n",
    "                model.build_vocab(words)\n",
    "            else:\n",
    "                model.train(words)\n",
    "\n",
    "            if i % 1 == 0:\n",
    "                print \"Step: %d\" %i\n",
    "            i += 1\n",
    "\n",
    "            if flag_EOF:\n",
    "                break\n",
    "    return model, (time.time() - last_time) / 60"
   ]
  },
  {
   "cell_type": "code",
   "execution_count": 19,
   "metadata": {
    "collapsed": true
   },
   "outputs": [],
   "source": [
    "def result_model(model, ttime):\n",
    "    result = []\n",
    "    predicts, undefinded = predict_myModel(model, data)\n",
    "    result.append(spearmanr(predicts, y).correlation)\n",
    "    result.append(len(undefinded))\n",
    "    result.append(ttime)\n",
    "    \n",
    "    return result"
   ]
  },
  {
   "cell_type": "code",
   "execution_count": 398,
   "metadata": {
    "collapsed": true
   },
   "outputs": [],
   "source": [
    "def plot_feature(result, param):\n",
    "    params_id =  {'algorithm' : 0, \n",
    "                  'window': 1, \n",
    "                  'size' : 2,\n",
    "                  'min_count' : 3,\n",
    "                  'alpha' : 4\n",
    "                 }\n",
    "    res = []\n",
    "    ids = []\n",
    "    ttimes = []\n",
    "    for a in result:\n",
    "        res.append(a['result'][0])\n",
    "        ids.append(a['params'][params_id[param]])\n",
    "        ttimes.append(a['result'][2])\n",
    "        \n",
    "    plt.figure(figsize=(10, 20))\n",
    "    f, axx = plt.subplots(1,2, figsize=(20,10))\n",
    "    axx[0].plot(ids,res)\n",
    "    axx[1].plot(ids, ttimes)\n",
    "    plt.show()"
   ]
  },
  {
   "cell_type": "markdown",
   "metadata": {},
   "source": [
    "#### Сравнение по ширине окна"
   ]
  },
  {
   "cell_type": "code",
   "execution_count": 399,
   "metadata": {
    "collapsed": false
   },
   "outputs": [],
   "source": [
    "algorithm = 0 # CBOW\n",
    "size = 300\n",
    "min_count = 1\n",
    "alpha = 0.025\n",
    "# __ testee __\n",
    "windows = range(1, 30, 2)\n",
    "\n",
    "for window in windows:\n",
    "    model, ttime = fil_model(algorithm, window, size, min_count, alpha)\n",
    "    result = result_model(model, ttime)\n",
    "    \n",
    "    save_result_model(algorithm, window, size, min_count, alpha, result[0], result[1], result[2], './results/windowsCBOW')"
   ]
  },
  {
   "cell_type": "code",
   "execution_count": 412,
   "metadata": {
    "collapsed": false
   },
   "outputs": [
    {
     "data": {
      "text/plain": [
       "<matplotlib.figure.Figure at 0x1464f63d0>"
      ]
     },
     "metadata": {},
     "output_type": "display_data"
    },
    {
     "data": {
      "image/png": "[encoded data removed]",
      "text/plain": [
       "<matplotlib.figure.Figure at 0x1464f1790>"
      ]
     },
     "metadata": {},
     "output_type": "display_data"
    }
   ],
   "source": [
    "my_result = load_result_model('./results/windowsCBOW')\n",
    "plot_feature(my_result, 'window')"
   ]
  },
  {
   "cell_type": "markdown",
   "metadata": {},
   "source": [
    "#### Сравнение по ширине окна Skip-gramm"
   ]
  },
  {
   "cell_type": "code",
   "execution_count": 407,
   "metadata": {
    "collapsed": false
   },
   "outputs": [],
   "source": [
    "algorithm = 1 # Skip-gramm\n",
    "size = 300\n",
    "min_count = 1\n",
    "alpha = 0.025\n",
    "# __ testee __\n",
    "windows = range(1, 30, 30)\n",
    "\n",
    "for window in windows:\n",
    "    model, ttime = fil_model(algorithm, window, size, min_count, alpha)\n",
    "    result = result_model(model, ttime)\n",
    "    \n",
    "    save_result_model(algorithm, window, size, min_count, alpha, result[0], result[1], result[2], './results/windowsSg')"
   ]
  },
  {
   "cell_type": "code",
   "execution_count": 415,
   "metadata": {
    "collapsed": false
   },
   "outputs": [
    {
     "data": {
      "text/plain": [
       "<matplotlib.figure.Figure at 0x13d41e690>"
      ]
     },
     "metadata": {},
     "output_type": "display_data"
    },
    {
     "data": {
      "image/png": "[encoded data removed]",
      "text/plain": [
       "<matplotlib.figure.Figure at 0x13d41e4d0>"
      ]
     },
     "metadata": {},
     "output_type": "display_data"
    }
   ],
   "source": [
    "my_result = load_result_model('./results/windowsSg')\n",
    "plot_feature(my_result, 'window')"
   ]
  },
  {
   "cell_type": "markdown",
   "metadata": {},
   "source": [
    "#### Сравнение по размеру вектора CBOW"
   ]
  },
  {
   "cell_type": "code",
   "execution_count": null,
   "metadata": {
    "collapsed": true
   },
   "outputs": [],
   "source": [
    "algorithm = 0 # CBOW\n",
    "window = 7\n",
    "min_count = 1\n",
    "alpha = 0.025\n",
    "# __ testee __\n",
    "sizes = range(200, 400, 15)\n",
    "\n",
    "for size in sizes:\n",
    "    model, ttime = fil_model(algorithm, window, size, min_count, alpha)\n",
    "    result = result_model(model, ttime)\n",
    "    \n",
    "    save_result_model(algorithm, window, size, min_count, alpha, result[0], result[1], result[2], './results/sizeCBOW')"
   ]
  },
  {
   "cell_type": "code",
   "execution_count": 418,
   "metadata": {
    "collapsed": false
   },
   "outputs": [
    {
     "data": {
      "text/plain": [
       "<matplotlib.figure.Figure at 0x131bc0210>"
      ]
     },
     "metadata": {},
     "output_type": "display_data"
    },
    {
     "data": {
      "image/png": "[encoded data removed]",
      "text/plain": [
       "<matplotlib.figure.Figure at 0x1320e1d90>"
      ]
     },
     "metadata": {},
     "output_type": "display_data"
    }
   ],
   "source": [
    "my_result = load_result_model('./results/sizeCBOW')\n",
    "plot_feature(my_result, 'size')"
   ]
  },
  {
   "cell_type": "markdown",
   "metadata": {},
   "source": [
    "#### Сравнение по размеру вектора Skip-gramm"
   ]
  },
  {
   "cell_type": "code",
   "execution_count": null,
   "metadata": {
    "collapsed": true
   },
   "outputs": [],
   "source": [
    "algorithm = 1 # Skip-gramm\n",
    "window = 7\n",
    "min_count = 1\n",
    "alpha = 0.025\n",
    "# __ testee __\n",
    "sizes = range(200, 400, 15)\n",
    "\n",
    "for size in sizes:\n",
    "    model, ttime = fil_model(algorithm, window, size, min_count, alpha)\n",
    "    result = result_model(model, ttime)\n",
    "    \n",
    "    save_result_model(algorithm, window, size, min_count, alpha, result[0], result[1], result[2], './results/sizeSg')"
   ]
  },
  {
   "cell_type": "code",
   "execution_count": 425,
   "metadata": {
    "collapsed": false
   },
   "outputs": [
    {
     "data": {
      "text/plain": [
       "<matplotlib.figure.Figure at 0x135915d10>"
      ]
     },
     "metadata": {},
     "output_type": "display_data"
    },
    {
     "data": {
      "image/png": "[encoded data removed]",
      "text/plain": [
       "<matplotlib.figure.Figure at 0x13591da50>"
      ]
     },
     "metadata": {},
     "output_type": "display_data"
    }
   ],
   "source": [
    "my_result = load_result_model('./results/sizeSg')\n",
    "plot_feature(my_result, 'size')"
   ]
  },
  {
   "cell_type": "markdown",
   "metadata": {},
   "source": [
    "### Итоговая модель"
   ]
  },
  {
   "cell_type": "code",
   "execution_count": 329,
   "metadata": {
    "collapsed": false
   },
   "outputs": [],
   "source": [
    "model = gensim.models.Word2Vec.load('./myModel/myModel')"
   ]
  },
  {
   "cell_type": "markdown",
   "metadata": {},
   "source": [
    "### Создание необходимых словарей для формирования графа связности слов по тезаурусу"
   ]
  },
  {
   "cell_type": "code",
   "execution_count": 16,
   "metadata": {
    "collapsed": true
   },
   "outputs": [],
   "source": [
    "path_tezaurus = './tezaurus/ruthes2017/'"
   ]
  },
  {
   "cell_type": "markdown",
   "metadata": {},
   "source": [
    "##### Формированиеи словарей \"название понятия - id\" и \"id - название понятия\""
   ]
  },
  {
   "cell_type": "code",
   "execution_count": 17,
   "metadata": {
    "collapsed": false
   },
   "outputs": [],
   "source": [
    "# __ Достаем из строки id __\n",
    "def extract_id(line):\n",
    "    tmp = line.strip().split('id=\"')\n",
    "    \n",
    "    # __ если найден \"concept id\" __\n",
    "    if len(tmp) == 2:\n",
    "        return tmp[1].split('\">')[0]\n",
    "    # __ если не найден __\n",
    "    else:\n",
    "        return None"
   ]
  },
  {
   "cell_type": "code",
   "execution_count": 18,
   "metadata": {
    "collapsed": false
   },
   "outputs": [
    {
     "name": "stdout",
     "output_type": "stream",
     "text": [
      "1342\n",
      "100001\n",
      "None\n"
     ]
    }
   ],
   "source": [
    "print extract_id('  <concept id=\"1342\">    ')\n",
    "print extract_id('  <entry id=\"100001\">    ')\n",
    "print extract_id('  <asdfasfasdf=\"100001\">    ')"
   ]
  },
  {
   "cell_type": "code",
   "execution_count": 19,
   "metadata": {
    "collapsed": true
   },
   "outputs": [],
   "source": [
    "# __ Убираем пояснения __\n",
    "def del_clarification(name):\n",
    "    # __ убираем пояснения в скобках __\n",
    "    name = name.strip().split('(')[0]\n",
    "    \n",
    "    # __ убираем пояснения после запятой __\n",
    "    name = name.strip().split(',')[0]\n",
    "\n",
    "    # __ если есть точка, удаляем её __\n",
    "    name = name.strip().replace('\\\\.', '')\n",
    "\n",
    "    return name"
   ]
  },
  {
   "cell_type": "code",
   "execution_count": 20,
   "metadata": {
    "collapsed": true
   },
   "outputs": [],
   "source": [
    "# __ Оставляем только однословные понятия __\n",
    "def filter_name(name):\n",
    "    name = name.decode('utf-8')\n",
    "    name = del_clarification(name)\n",
    "    tmp = name.strip().split(' ')\n",
    "    \n",
    "    # __ если слово состоит из нескольких слов, то не берем его __\n",
    "    if len(tmp) > 1:\n",
    "        return None\n",
    "    else:\n",
    "        return tmp[0]"
   ]
  },
  {
   "cell_type": "code",
   "execution_count": 21,
   "metadata": {
    "collapsed": true
   },
   "outputs": [],
   "source": [
    "# __ Получаем из строеки название понятия __\n",
    "def extract_name(line):\n",
    "    tmp = line.strip().split('<name>')\n",
    "    \n",
    "    # __ если найден \"name\" __\n",
    "    if len(tmp) == 2:\n",
    "        return filter_name(tmp[1].split('</name>')[0])\n",
    "    # __ если не найден __\n",
    "    else:\n",
    "        return None"
   ]
  },
  {
   "cell_type": "code",
   "execution_count": 22,
   "metadata": {
    "collapsed": false
   },
   "outputs": [
    {
     "name": "stdout",
     "output_type": "stream",
     "text": [
      "БАНК\n"
     ]
    }
   ],
   "source": [
    "print extract_name('   <name>БАНК (ФИНАНСОВОЕ УЧРЕЖДЕНИЕ), ЗДАНИЕ</name>')"
   ]
  },
  {
   "cell_type": "code",
   "execution_count": 23,
   "metadata": {
    "collapsed": true
   },
   "outputs": [],
   "source": [
    "# __ Составляем словари id – name и name – id __\n",
    "def create_concepts_dict(path, file_name):\n",
    "    concepts = {}\n",
    "    name_id = {}\n",
    "    with open(os.path.join(path, file_name)) as fconcept:\n",
    "        conc_id = -1\n",
    "        name = ''\n",
    "        \n",
    "        for line in fconcept:\n",
    "\n",
    "            tmp = extract_id(line)\n",
    "            # __ если строка содержит id __\n",
    "            if tmp:\n",
    "                conc_id = tmp\n",
    "                continue\n",
    "\n",
    "            tmp = extract_name(line)\n",
    "            # __ если строка содержит имя __ \n",
    "            if tmp:\n",
    "                name = tmp\n",
    "                if name not in name_id:\n",
    "                    concepts[conc_id] = name\n",
    "                    name_id[name] = conc_id\n",
    "                \n",
    "    return concepts, name_id"
   ]
  },
  {
   "cell_type": "code",
   "execution_count": 24,
   "metadata": {
    "collapsed": false
   },
   "outputs": [
    {
     "name": "stdout",
     "output_type": "stream",
     "text": [
      "17228\n"
     ]
    }
   ],
   "source": [
    "# __ словарь понятий __\n",
    "concepts, concept_name_id = create_concepts_dict(path_tezaurus, 'concepts.xml')\n",
    "print len(concepts)"
   ]
  },
  {
   "cell_type": "code",
   "execution_count": 25,
   "metadata": {
    "collapsed": false
   },
   "outputs": [
    {
     "name": "stdout",
     "output_type": "stream",
     "text": [
      "58139\n"
     ]
    }
   ],
   "source": [
    "# __ словарь входных слов __\n",
    "entry, entry_name_id = create_concepts_dict(path_tezaurus, 'text_entry.xml')\n",
    "print len(entry)"
   ]
  },
  {
   "cell_type": "code",
   "execution_count": 26,
   "metadata": {
    "collapsed": false
   },
   "outputs": [],
   "source": [
    "# __ Объединение понятий и входных слов __\n",
    "id_name = {}\n",
    "for item in concepts.items():\n",
    "    id_name['conc_' + item[0]] = item[1]\n",
    "    \n",
    "for item in entry.items():\n",
    "    id_name['ent_' + item[0]] = item[1]"
   ]
  },
  {
   "cell_type": "code",
   "execution_count": 27,
   "metadata": {
    "collapsed": false
   },
   "outputs": [],
   "source": [
    "name_id = {}\n",
    "for item in concept_name_id.items():\n",
    "    name_id.setdefault(item[0], {})\n",
    "    name_id[item[0]]['cons'] = 'conc_' + item[1]\n",
    "for item in entry_name_id.items():\n",
    "    name_id.setdefault(item[0], {})\n",
    "    name_id[item[0]]['ent'] = 'ent_' + item[1]"
   ]
  },
  {
   "cell_type": "code",
   "execution_count": 28,
   "metadata": {
    "collapsed": false
   },
   "outputs": [
    {
     "name": "stdout",
     "output_type": "stream",
     "text": [
      "75367\n",
      "58735\n"
     ]
    }
   ],
   "source": [
    "print len(id_name)\n",
    "print len(name_id)"
   ]
  },
  {
   "cell_type": "code",
   "execution_count": 29,
   "metadata": {
    "collapsed": false
   },
   "outputs": [
    {
     "name": "stdout",
     "output_type": "stream",
     "text": [
      "сто\n",
      "пять\n",
      "джексон\n",
      "фрейд\n",
      "наличные\n",
      "морепродукт\n",
      "марадона\n",
      "арафат\n",
      "приcпособление\n",
      "блядь\n",
      "омар\n",
      "джин\n",
      "cреда\n",
      "новости\n",
      "фбр\n",
      "cознание\n",
      "йель\n",
      "cd\n",
      "семь\n",
      "опек\n",
      "\n",
      "20\n"
     ]
    }
   ],
   "source": [
    "# __ Список слов, не найденных в тезаурусе __\n",
    "\n",
    "values = concepts.values()\n",
    "values2 = entry.values()\n",
    "\n",
    "undefined_tezaurus = set()\n",
    "k = 0\n",
    "for word in data['word1']:\n",
    "    w = word.strip().decode('utf8').upper()\n",
    "    if (w not in values) and (w not in values2):\n",
    "        undefined_tezaurus.add(word)\n",
    "for word in data['word2']:\n",
    "    w = word.strip().decode('utf8').upper()\n",
    "    if (w not in values) and (w not in values2):\n",
    "        undefined_tezaurus.add(word) \n",
    "        \n",
    "for word in undefined_tezaurus:\n",
    "    print word\n",
    "print \n",
    "print len(undefined_tezaurus)"
   ]
  },
  {
   "cell_type": "markdown",
   "metadata": {},
   "source": [
    "##### Формированиеи словарей синонимов и отношений"
   ]
  },
  {
   "cell_type": "code",
   "execution_count": 30,
   "metadata": {
    "collapsed": true
   },
   "outputs": [],
   "source": [
    "# __ Получение id двух синонимов из строки __\n",
    "def extract_synonyms(line):\n",
    "    tmp = line.strip().split('concept_id=\"')[1].split('\" entry_id=\"')\n",
    "    word1 = tmp[0]\n",
    "    word2 = tmp[1].split('\"/>')[0]\n",
    "    return word1, word2"
   ]
  },
  {
   "cell_type": "code",
   "execution_count": 31,
   "metadata": {
    "collapsed": true
   },
   "outputs": [],
   "source": [
    "# __ Составляем словарь id - список id синонимов __ \n",
    "def create_synonym_dict(path, file_name):\n",
    "    synonyms = {}\n",
    "    with open(os.path.join(path, file_name)) as ffile:\n",
    "        for line in ffile:\n",
    "            if line.strip() != '<synonyms>' and line.strip() != '</synonyms>':\n",
    "                word1, word2 = extract_synonyms(line)\n",
    "                synonyms.setdefault('conc_' + word1, []).append('ent_' + word2)\n",
    "                synonyms.setdefault('ent_' + word2, []).append('conc_' + word1)\n",
    "    return synonyms"
   ]
  },
  {
   "cell_type": "code",
   "execution_count": 32,
   "metadata": {
    "collapsed": false
   },
   "outputs": [],
   "source": [
    "# __ Словарь синонимов __\n",
    "synonyms = create_synonym_dict(path_tezaurus, 'synonyms.xml')"
   ]
  },
  {
   "cell_type": "code",
   "execution_count": 33,
   "metadata": {
    "collapsed": false
   },
   "outputs": [
    {
     "name": "stdout",
     "output_type": "stream",
     "text": [
      "['ent_134839', 'ent_140303', 'ent_157210', 'ent_161016', 'ent_161651', 'ent_161653', 'ent_184378', 'ent_184379', 'ent_191205', 'ent_194424', 'ent_197247']\n",
      "['conc_3']\n"
     ]
    }
   ],
   "source": [
    "print synonyms['conc_110139']\n",
    "print synonyms['ent_109601']"
   ]
  },
  {
   "cell_type": "code",
   "execution_count": 34,
   "metadata": {
    "collapsed": true
   },
   "outputs": [],
   "source": [
    "# __ Получение двух id из отношения __\n",
    "def extract_relation(line):\n",
    "    tmp = line.strip().split('from=\"')[1].split('\" to=\"')\n",
    "    word1 = tmp[0]\n",
    "    word2 = tmp[1].split('\" name=\"')[0]\n",
    "    return word1, word2"
   ]
  },
  {
   "cell_type": "code",
   "execution_count": 35,
   "metadata": {
    "collapsed": true
   },
   "outputs": [],
   "source": [
    "# __ Составляем словарь id - список id слов, имеющих отношение к первому __\n",
    "def create_relation_dict(path, file_name):\n",
    "    relations = {}\n",
    "    with open(os.path.join(path, file_name)) as ffile:\n",
    "        for line in ffile:\n",
    "            if line.strip() != '<relations>' and line.strip() != '</relations>':\n",
    "                word1, word2 = extract_relation(line)\n",
    "                relations.setdefault('conc_' + word1, []).append('conc_' + word2)\n",
    "#                 relations.setdefault('conc_' + word2, []).append('conc_' + word1)\n",
    "    return relations"
   ]
  },
  {
   "cell_type": "code",
   "execution_count": 36,
   "metadata": {
    "collapsed": false
   },
   "outputs": [],
   "source": [
    "# __ Словарь отношений __\n",
    "relations = create_relation_dict(path_tezaurus, 'relations.xml')"
   ]
  },
  {
   "cell_type": "code",
   "execution_count": 37,
   "metadata": {
    "collapsed": false
   },
   "outputs": [
    {
     "name": "stdout",
     "output_type": "stream",
     "text": [
      "['conc_4', 'conc_5', 'conc_14', 'conc_462', 'conc_2069', 'conc_2091', 'conc_2285', 'conc_5308', 'conc_6050', 'conc_7496', 'conc_8669', 'conc_8971', 'conc_130004', 'conc_133163', 'conc_133853', 'conc_133997', 'conc_135291', 'conc_143559', 'conc_145728']\n"
     ]
    }
   ],
   "source": [
    "print relations['conc_1']"
   ]
  },
  {
   "cell_type": "code",
   "execution_count": 38,
   "metadata": {
    "collapsed": true
   },
   "outputs": [],
   "source": [
    "def get_syninyms(name):\n",
    "    tmp = []\n",
    "    if name in name_id:\n",
    "        if 'cons' in name_id[name] and name_id[name]['cons'] in synonyms:\n",
    "            tmp = filter(lambda x: x in id_name, synonyms[name_id[name]['cons']])\n",
    "        if 'ent' in name_id[name] and name_id[name]['ent'] in synonyms:\n",
    "            tmp.extend(filter(lambda x: x in id_name, synonyms[name_id[name]['ent']]))\n",
    "        return map(lambda x: id_name[x], tmp)\n",
    "    else:\n",
    "        return []"
   ]
  },
  {
   "cell_type": "code",
   "execution_count": 39,
   "metadata": {
    "collapsed": true
   },
   "outputs": [],
   "source": [
    "def get_relations(name):\n",
    "    if name in name_id and 'cons' in name_id[name] and name_id[name]['cons'] in relations:\n",
    "        tmp = filter(lambda x: x in id_name, relations[name_id[name]['cons']])\n",
    "        return map(lambda x: id_name[x], tmp)\n",
    "    else:\n",
    "        return []"
   ]
  },
  {
   "cell_type": "code",
   "execution_count": 40,
   "metadata": {
    "collapsed": false
   },
   "outputs": [
    {
     "name": "stdout",
     "output_type": "stream",
     "text": [
      "ВОЛШЕБНИК\n",
      "КОЛДУН\n",
      "ЧАРОДЕЙ\n",
      "МАГ\n",
      "ЧАРОДЕЙСКИЙ\n",
      "КОЛДУНЬЯ\n",
      "КУДЕСНИК\n",
      "КУДЕСНИЧЕСКИЙ\n",
      "ВЕДЬМАК\n",
      "ЧУДЕСНИК\n",
      "ВЕДУН\n",
      "ВОЛШЕБНИК\n",
      "\n",
      "Synonyms:\n",
      "\n",
      "ВОЛШЕБНИК\n",
      "\n",
      "Relations:\n",
      "\n",
      "ВОЛШЕБНИЦА\n",
      "ГАДАЛКА\n",
      "КОЛДОВСТВО\n",
      "ШАМАН\n"
     ]
    }
   ],
   "source": [
    "for relat in get_syninyms(u'ВОЛШЕБНИК'):\n",
    "    print relat\n",
    "\n",
    "print \n",
    "print 'Synonyms:'\n",
    "print\n",
    "for syn in get_syninyms(u'МАГ'):\n",
    "    print syn\n",
    "    \n",
    "print \n",
    "print 'Relations:'\n",
    "print\n",
    "for relat in get_relations(u'ВОЛШЕБНИК'):\n",
    "    print relat"
   ]
  },
  {
   "cell_type": "markdown",
   "metadata": {},
   "source": [
    "### Класс: Retrofitting"
   ]
  },
  {
   "cell_type": "markdown",
   "metadata": {},
   "source": [
    "Модель retrofitting преобразует вектора, полученные при помощи word2vec, используя знания отношений слов из словаря Тезаурус"
   ]
  },
  {
   "cell_type": "code",
   "execution_count": 470,
   "metadata": {
    "collapsed": false
   },
   "outputs": [],
   "source": [
    "class Retrofitting():\n",
    "    def __init__(self, n_iter=5, alpha=1.0, betta=0.1, coef_relat=0.3, type_corp='rusCorp'):\n",
    "        self.n_iter = n_iter  # __ количество итераций алгоритма fit __\n",
    "        self.alpha = alpha\n",
    "        self.betta = betta\n",
    "        self.coef_relat = coef_relat\n",
    "        self.type_corp = type_corp\n",
    "        \n",
    "    def fit(self, model, id_name, name_id, synonyms, relations):\n",
    "        self.model = model\n",
    "        # __ получение для каждого слова его вектор из word2vec и инициализация обновленных векторв __\n",
    "        name_w2v = {}\n",
    "        name_fitted = {}\n",
    "        for (name, id_word) in name_id.items():\n",
    "            w2v = []\n",
    "            try:\n",
    "                if self.type_corp == 'rusCorp':\n",
    "                    w2v = model.word_vec(normal_analizer.norm(name.lower().encode('utf8')))\n",
    "                else:\n",
    "                    w2v = model.wv[name.encode('utf8')]\n",
    "            except:\n",
    "                pass\n",
    "            if len(w2v) != 0:\n",
    "                name_w2v[name] = w2v.copy()\n",
    "                name_fitted[name] = w2v.copy()\n",
    "        \n",
    "        # __ итерации алгоритма __\n",
    "        for step in xrange(self.n_iter):\n",
    "            tmp_name_fitted = {}\n",
    "            i = 0\n",
    "            for name in name_w2v.keys():\n",
    "                sum_syn_betta = 0\n",
    "                sum_betta = 0\n",
    "                            \n",
    "                if 'cons' in name_id[name]:\n",
    "                    count_syns = 0\n",
    "                    for synonym in synonyms[name_id[name]['cons']]:\n",
    "                        if synonym in id_name and id_name[synonym] in name_fitted:\n",
    "                            count_syns += 1\n",
    "                    if count_syns != 0:\n",
    "                        betta = 1.0 / count_syns\n",
    "                    for synonym in synonyms[name_id[name]['cons']]:\n",
    "                        if synonym in id_name and id_name[synonym] in name_fitted:\n",
    "                            sum_syn_betta += self.betta * betta * name_fitted[id_name[synonym]]\n",
    "                            sum_betta += self.betta * betta\n",
    "                            \n",
    "                if 'ent' in name_id[name]:\n",
    "                    count_syns = 0\n",
    "                    for synonym in synonyms[name_id[name]['ent']]:\n",
    "                        if synonym in id_name and id_name[synonym] in name_fitted:\n",
    "                            count_syns += 1\n",
    "                    if count_syns != 0:\n",
    "                        betta = 1.0 / count_syns\n",
    "                    for synonym in synonyms[name_id[name]['ent']]:\n",
    "                        if synonym in id_name and id_name[synonym] in name_fitted:\n",
    "                            sum_syn_betta += self.betta * betta * name_fitted[id_name[synonym]]\n",
    "                            sum_betta += self.betta * betta\n",
    "                        \n",
    "                # __ учитываем отношения __\n",
    "                if 'cons' in name_id[name]:\n",
    "                    count_relat = 0\n",
    "                    for relation in relations[name_id[name]['cons']]:\n",
    "                        if relation in id_name and id_name[relation] in name_fitted:\n",
    "                            count_relat += 1\n",
    "                    if count_relat != 0:\n",
    "                        betta = 1.0 / count_relat\n",
    "                    for relation in relations[name_id[name]['cons']]:\n",
    "                        if relation in id_name and id_name[relation] in name_fitted:\n",
    "                            sum_syn_betta += self.betta * self.coef_relat * betta * name_fitted[id_name[relation]]\n",
    "                            sum_betta += self.betta * self.coef_relat  * betta\n",
    "                            \n",
    "                tmp_name_fitted[name] = (sum_syn_betta + self.alpha * name_w2v[name]) / (sum_betta + self.alpha)\n",
    "                \n",
    "            name_fitted = tmp_name_fitted.copy()\n",
    "        \n",
    "        self.name_fitted = name_fitted.copy()\n",
    "        return self\n",
    "    \n",
    "    def similarity(self, word1, word2):\n",
    "        word1 = word1.decode('utf8')\n",
    "        word2 = word2.decode('utf8')\n",
    "        if word1 in self.name_fitted and word2 in self.name_fitted:\n",
    "            word1_vec = self.name_fitted[word1]\n",
    "            word2_vec = self.name_fitted[word2]\n",
    "            return 1 - spatial.distance.cosine(word1_vec, word2_vec)\n",
    "        else:\n",
    "            try:\n",
    "                if self.type_corp == 'rusCorp':\n",
    "                    value = self.model.similarity(normal_analizer.norm(word1.lower().encode('utf8')), normal_analizer.norm(word2.lower().encode('utf8')))\n",
    "                else:\n",
    "                    value = self.model.similarity(word1.encode('utf8'), word2.encode('utf8'))\n",
    "                return value\n",
    "            except:\n",
    "                return 0"
   ]
  },
  {
   "cell_type": "markdown",
   "metadata": {},
   "source": [
    "### Тест на разных корпусах"
   ]
  },
  {
   "cell_type": "markdown",
   "metadata": {},
   "source": [
    "    1. Собственный корпус"
   ]
  },
  {
   "cell_type": "code",
   "execution_count": 471,
   "metadata": {
    "collapsed": false
   },
   "outputs": [],
   "source": [
    "model = gensim.models.Word2Vec.load('./myModel/myModel')"
   ]
  },
  {
   "cell_type": "code",
   "execution_count": 472,
   "metadata": {
    "collapsed": false
   },
   "outputs": [],
   "source": [
    "retrofitting = Retrofitting(type_corp='my')\n",
    "retrofitting = retrofitting.fit(model, id_name, name_id, synonyms, relations)"
   ]
  },
  {
   "cell_type": "code",
   "execution_count": 473,
   "metadata": {
    "collapsed": false
   },
   "outputs": [
    {
     "name": "stdout",
     "output_type": "stream",
     "text": [
      "Нормализованные предсказания: \n",
      "0.0562254908466\n",
      "\n",
      "Абсолютные предсказания: \n",
      "0.0492591884369\n",
      "\n",
      "Spearman rank correlation: \n",
      "0.65148741098\n"
     ]
    }
   ],
   "source": [
    "#  __ Предсказания модели с постобучением __\n",
    "predicts, undefinded = predict_myModel(retrofitting, data)\n",
    "print_accuracy(np.array(predicts), y)"
   ]
  },
  {
   "cell_type": "code",
   "execution_count": 474,
   "metadata": {
    "collapsed": false,
    "scrolled": true
   },
   "outputs": [
    {
     "name": "stdout",
     "output_type": "stream",
     "text": [
      "Нормализованные предсказания: \n",
      "0.0601722370905\n",
      "\n",
      "Абсолютные предсказания: \n",
      "0.0561642789093\n",
      "\n",
      "Spearman rank correlation: \n",
      "0.645451619434\n"
     ]
    }
   ],
   "source": [
    "#  __ Предсказания только word2vec __\n",
    "predicts, undefinded = predict_myModel(model, data)\n",
    "print_accuracy(predicts, y)"
   ]
  },
  {
   "cell_type": "markdown",
   "metadata": {},
   "source": [
    "    2. НКРЯ"
   ]
  },
  {
   "cell_type": "code",
   "execution_count": 475,
   "metadata": {
    "collapsed": false
   },
   "outputs": [],
   "source": [
    "model = gensim.models.KeyedVectors.load_word2vec_format('./courps/ruscorpora.bin', binary=True)"
   ]
  },
  {
   "cell_type": "code",
   "execution_count": 476,
   "metadata": {
    "collapsed": false
   },
   "outputs": [],
   "source": [
    "retrofitting = Retrofitting()\n",
    "retrofitting = retrofitting.fit(model, id_name, name_id, synonyms, relations)"
   ]
  },
  {
   "cell_type": "code",
   "execution_count": 477,
   "metadata": {
    "collapsed": false
   },
   "outputs": [
    {
     "name": "stdout",
     "output_type": "stream",
     "text": [
      "Нормализованные предсказания: \n",
      "0.0381463818612\n",
      "\n",
      "Абсолютные предсказания: \n",
      "0.0342830399711\n",
      "\n",
      "Spearman rank correlation: \n",
      "0.691371233592\n"
     ]
    }
   ],
   "source": [
    "#  __ Предсказания модели с постобучением __\n",
    "predicts, undefinded = predict_myModel(retrofitting, data)\n",
    "print_accuracy(np.array(predicts), y)"
   ]
  },
  {
   "cell_type": "code",
   "execution_count": 478,
   "metadata": {
    "collapsed": false,
    "scrolled": true
   },
   "outputs": [
    {
     "name": "stdout",
     "output_type": "stream",
     "text": [
      "Нормализованные предсказания: \n",
      "0.040152472329\n",
      "\n",
      "Абсолютные предсказания: \n",
      "0.0367998209608\n",
      "\n",
      "Spearman rank correlation: \n",
      "0.68503439607\n"
     ]
    }
   ],
   "source": [
    "#  __ Предсказания только word2vec __\n",
    "predicts, undefinded = predict(model, data)\n",
    "print_accuracy(predicts, y)"
   ]
  },
  {
   "cell_type": "markdown",
   "metadata": {},
   "source": [
    "    3. Веб"
   ]
  },
  {
   "cell_type": "code",
   "execution_count": 479,
   "metadata": {
    "collapsed": false
   },
   "outputs": [],
   "source": [
    "model = gensim.models.KeyedVectors.load_word2vec_format('./courps/web.bin', binary=True)"
   ]
  },
  {
   "cell_type": "code",
   "execution_count": 480,
   "metadata": {
    "collapsed": false
   },
   "outputs": [],
   "source": [
    "retrofitting = Retrofitting()\n",
    "retrofitting = retrofitting.fit(model, id_name, name_id, synonyms, relations)"
   ]
  },
  {
   "cell_type": "code",
   "execution_count": 481,
   "metadata": {
    "collapsed": false
   },
   "outputs": [
    {
     "name": "stdout",
     "output_type": "stream",
     "text": [
      "Нормализованные предсказания: \n",
      "0.0389179510811\n",
      "\n",
      "Абсолютные предсказания: \n",
      "0.0505310898752\n",
      "\n",
      "Spearman rank correlation: \n",
      "0.650160796072\n"
     ]
    }
   ],
   "source": [
    "#  __ Предсказания модели с постобучением __\n",
    "predicts, undefinded = predict_myModel(retrofitting, data)\n",
    "print_accuracy(np.array(predicts), y)"
   ]
  },
  {
   "cell_type": "code",
   "execution_count": 482,
   "metadata": {
    "collapsed": false,
    "scrolled": true
   },
   "outputs": [
    {
     "name": "stdout",
     "output_type": "stream",
     "text": [
      "Нормализованные предсказания: \n",
      "0.0400544907362\n",
      "\n",
      "Абсолютные предсказания: \n",
      "0.0539420002041\n",
      "\n",
      "Spearman rank correlation: \n",
      "0.641116495043\n"
     ]
    }
   ],
   "source": [
    "#  __ Предсказания только word2vec __\n",
    "predicts, undefinded = predict(model, data)\n",
    "print_accuracy(predicts, y)"
   ]
  },
  {
   "cell_type": "markdown",
   "metadata": {},
   "source": [
    "    4. НКРЯ + wiki"
   ]
  },
  {
   "cell_type": "code",
   "execution_count": 483,
   "metadata": {
    "collapsed": false
   },
   "outputs": [],
   "source": [
    "model = gensim.models.KeyedVectors.load_word2vec_format('./courps/ruwikiruscorpora.bin', binary=True)"
   ]
  },
  {
   "cell_type": "code",
   "execution_count": 484,
   "metadata": {
    "collapsed": false
   },
   "outputs": [],
   "source": [
    "retrofitting = Retrofitting(coef_relat=0.3)\n",
    "retrofitting = retrofitting.fit(model, id_name, name_id, synonyms, relations)"
   ]
  },
  {
   "cell_type": "code",
   "execution_count": 485,
   "metadata": {
    "collapsed": false
   },
   "outputs": [
    {
     "name": "stdout",
     "output_type": "stream",
     "text": [
      "Нормализованные предсказания: \n",
      "0.0401207449543\n",
      "\n",
      "Абсолютные предсказания: \n",
      "0.0489251322979\n",
      "\n",
      "Spearman rank correlation: \n",
      "0.644560496782\n"
     ]
    }
   ],
   "source": [
    "#  __ Предсказания модели с постобучением __\n",
    "predicts, undefinded = predict_myModel(retrofitting, data)\n",
    "print_accuracy(np.array(predicts), y)"
   ]
  },
  {
   "cell_type": "code",
   "execution_count": 486,
   "metadata": {
    "collapsed": false,
    "scrolled": true
   },
   "outputs": [
    {
     "name": "stdout",
     "output_type": "stream",
     "text": [
      "Нормализованные предсказания: \n",
      "0.0411610078923\n",
      "\n",
      "Абсолютные предсказания: \n",
      "0.0509819300554\n",
      "\n",
      "Spearman rank correlation: \n",
      "0.641340046202\n"
     ]
    }
   ],
   "source": [
    "#  __ Предсказания только word2vec __\n",
    "predicts, undefinded = predict(model, data)\n",
    "print_accuracy(predicts, y)"
   ]
  },
  {
   "cell_type": "markdown",
   "metadata": {},
   "source": [
    "    5. Новостной"
   ]
  },
  {
   "cell_type": "code",
   "execution_count": 487,
   "metadata": {
    "collapsed": true
   },
   "outputs": [],
   "source": [
    "model = gensim.models.KeyedVectors.load_word2vec_format('./courps/news.bin', binary=True)"
   ]
  },
  {
   "cell_type": "code",
   "execution_count": 488,
   "metadata": {
    "collapsed": false
   },
   "outputs": [],
   "source": [
    "retrofitting = Retrofitting(coef_relat=0.3)\n",
    "retrofitting = retrofitting.fit(model, id_name, name_id, synonyms, relations)"
   ]
  },
  {
   "cell_type": "code",
   "execution_count": 489,
   "metadata": {
    "collapsed": false
   },
   "outputs": [
    {
     "name": "stdout",
     "output_type": "stream",
     "text": [
      "Нормализованные предсказания: \n",
      "0.0473420930475\n",
      "\n",
      "Абсолютные предсказания: \n",
      "0.0689142492816\n",
      "\n",
      "Spearman rank correlation: \n",
      "0.597976738661\n"
     ]
    }
   ],
   "source": [
    "#  __ Предсказания модели с постобучением __\n",
    "predicts, undefinded = predict_myModel(retrofitting, data)\n",
    "print_accuracy(np.array(predicts), y)"
   ]
  },
  {
   "cell_type": "code",
   "execution_count": 490,
   "metadata": {
    "collapsed": false,
    "scrolled": true
   },
   "outputs": [
    {
     "name": "stdout",
     "output_type": "stream",
     "text": [
      "Нормализованные предсказания: \n",
      "0.0489090111169\n",
      "\n",
      "Абсолютные предсказания: \n",
      "0.0727769463928\n",
      "\n",
      "Spearman rank correlation: \n",
      "0.589919280802\n"
     ]
    }
   ],
   "source": [
    "#  __ Предсказания только word2vec __\n",
    "predicts, undefinded = predict(model, data)\n",
    "print_accuracy(predicts, y)"
   ]
  },
  {
   "cell_type": "markdown",
   "metadata": {
    "collapsed": true
   },
   "source": [
    "### Сравнение полученных результатов"
   ]
  },
  {
   "cell_type": "markdown",
   "metadata": {},
   "source": [
    "                                            Retrofitting vs just Word2Vec"
   ]
  },
  {
   "cell_type": "markdown",
   "metadata": {},
   "source": [
    "|Модель|MSE + нормализация|MSE|Корреляция Спирмена|Кол-во ненайденных пар|\n",
    "| :-: | :-: |:-: |:-: |:-: |\n",
    "|My| 0.05623 vs 0.06017 |0.04926 vs 0.05616 | 0.65149 vs 0.64545 | 5 |\n",
    "| НКРЯ | 0.03814 vs 0.04015 | 0.03428 vs 0.03680 | 0.69137 vs 0.68503 | 2 |\n",
    "| НКРЯ + wiki |0.03973 vs 0.04116 |0.04824 vs 0.05098  |0.64456 vs 0.64134 | 2 |\n",
    "| Веб |0.03892 vs 0.04005 |0.05053 vs 0.05394 |0.65016 vs 0.64112 | 2 |\n",
    "| Новости |0.04698 vs 0.04891 |0.06763 vs 0.07278  |0.59986 vs 0.58992 | 2 |\n"
   ]
  },
  {
   "cell_type": "code",
   "execution_count": null,
   "metadata": {
    "collapsed": true
   },
   "outputs": [],
   "source": []
  }
 ],
 "metadata": {
  "kernelspec": {
   "display_name": "Python 2",
   "language": "python",
   "name": "python2"
  },
  "language_info": {
   "codemirror_mode": {
    "name": "ipython",
    "version": 2
   },
   "file_extension": ".py",
   "mimetype": "text/x-python",
   "name": "python",
   "nbconvert_exporter": "python",
   "pygments_lexer": "ipython2",
   "version": "2.7.13"
  }
 },
 "nbformat": 4,
 "nbformat_minor": 2
}
